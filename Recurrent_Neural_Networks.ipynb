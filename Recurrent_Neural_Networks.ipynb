{
  "nbformat": 4,
  "nbformat_minor": 0,
  "metadata": {
    "kernelspec": {
      "display_name": "myenv",
      "language": "python",
      "name": "myenv"
    },
    "language_info": {
      "codemirror_mode": {
        "name": "ipython",
        "version": 3
      },
      "file_extension": ".py",
      "mimetype": "text/x-python",
      "name": "python",
      "nbconvert_exporter": "python",
      "pygments_lexer": "ipython3",
      "version": "3.7.7"
    },
    "colab": {
      "name": "Recurrent Neural Networks.ipynb",
      "provenance": [],
      "collapsed_sections": []
    },
    "accelerator": "GPU"
  },
  "cells": [
    {
      "cell_type": "markdown",
      "metadata": {
        "id": "ZpXvAvEjyGsA",
        "colab_type": "text"
      },
      "source": [
        "# Recurrent Neural Networks"
      ]
    },
    {
      "cell_type": "markdown",
      "metadata": {
        "id": "oERf4j0UyGsB",
        "colab_type": "raw"
      },
      "source": [
        "Listing 6.19 Pseudocode RNN"
      ]
    },
    {
      "cell_type": "code",
      "metadata": {
        "id": "ryhyWLLkyGsC",
        "colab_type": "code",
        "colab": {}
      },
      "source": [
        "state_t = 0 #The state at t\n",
        "for input_t in input_sequence:  #Iterates over sequence elements\n",
        "    output_t = f(input_t, state_t)\n",
        "    state_t = output_t #The previous output becomes the state for the next iteration."
      ],
      "execution_count": null,
      "outputs": []
    },
    {
      "cell_type": "markdown",
      "metadata": {
        "id": "8x-3NQsbyGsH",
        "colab_type": "raw"
      },
      "source": [
        "Listing 6.20 More detailed pseudocode for the RNN"
      ]
    },
    {
      "cell_type": "code",
      "metadata": {
        "id": "pljxR9Q3yGsH",
        "colab_type": "code",
        "colab": {}
      },
      "source": [
        "state_t = 0\n",
        "for input_t in input_sequence:\n",
        "    output_t = activation(dot(W, input_t) + dot(U, state_t) + b)\n",
        "    state_t = output_t"
      ],
      "execution_count": null,
      "outputs": []
    },
    {
      "cell_type": "markdown",
      "metadata": {
        "id": "m-KQw-SdyGsN",
        "colab_type": "raw"
      },
      "source": [
        "Listing 6.21 Numpy implementation of a simple RNN"
      ]
    },
    {
      "cell_type": "code",
      "metadata": {
        "id": "RlocW7CuyGsO",
        "colab_type": "code",
        "colab": {}
      },
      "source": [
        "import numpy as np\n",
        "timesteps = 100 #Number of timesteps in the input sequence\n",
        "input_features = 32 #Dimensionality of the input feature space\n",
        "output_features = 64 #Dimensionality of the output feature space\n",
        "inputs = np.random.random((timesteps, input_features)) #Input data: random noise for the sake of the example\n",
        "state_t = np.zeros((output_features,)) #Initial state: an all-zero vector\n",
        "\n",
        "W = np.random.random((output_features, input_features)) #Creates random weight matrices\n",
        "U = np.random.random((output_features, output_features))\n",
        "b = np.random.random((output_features,))\n",
        "\n",
        "successive_outputs = []\n",
        "for input_t in inputs: #input_t is a vector of shape (input_features,).\n",
        "    output_t = np.tanh(np.dot(W, input_t) + np.dot(U, state_t) + b) #Combines the input with the current state \n",
        "                                                                    #(the previous output) to obtain the current output\n",
        "    successive_outputs.append(output_t) #Stores this output in a list\n",
        "    state_t = output_t #Updates the state of the network for the next timestep\n",
        "    final_output_sequence = np.concatenate(successive_outputs, axis=0) #The final output is a 2D tensor of \n",
        "                                                                       #shape (timesteps, output_features)."
      ],
      "execution_count": null,
      "outputs": []
    },
    {
      "cell_type": "markdown",
      "metadata": {
        "id": "2y1m7y9qyGsS",
        "colab_type": "raw"
      },
      "source": [
        "A recurrent layer in Keras"
      ]
    },
    {
      "cell_type": "code",
      "metadata": {
        "id": "wPnE6TrcyGsT",
        "colab_type": "code",
        "colab": {
          "base_uri": "https://localhost:8080/",
          "height": 230
        },
        "outputId": "06d8942f-9977-4e5c-fc00-a49e3b496618"
      },
      "source": [
        "from tensorflow.keras.layers import SimpleRNN\n",
        "from tensorflow.keras.models import Sequential\n",
        "from tensorflow.keras.layers import Embedding, SimpleRNN\n",
        "model = Sequential()\n",
        "model.add(Embedding(10000, 32))\n",
        "model.add(SimpleRNN(32))\n",
        "model.summary()"
      ],
      "execution_count": 9,
      "outputs": [
        {
          "output_type": "stream",
          "text": [
            "Model: \"sequential_1\"\n",
            "_________________________________________________________________\n",
            "Layer (type)                 Output Shape              Param #   \n",
            "=================================================================\n",
            "embedding_1 (Embedding)      (None, None, 32)          320000    \n",
            "_________________________________________________________________\n",
            "simple_rnn_1 (SimpleRNN)     (None, 32)                2080      \n",
            "=================================================================\n",
            "Total params: 322,080\n",
            "Trainable params: 322,080\n",
            "Non-trainable params: 0\n",
            "_________________________________________________________________\n"
          ],
          "name": "stdout"
        }
      ]
    },
    {
      "cell_type": "code",
      "metadata": {
        "id": "fKeSOx2wyGsY",
        "colab_type": "code",
        "colab": {
          "base_uri": "https://localhost:8080/",
          "height": 230
        },
        "outputId": "0a9216e3-e489-4d93-957c-67ff8e1a61d1"
      },
      "source": [
        "model = Sequential()\n",
        "model.add(Embedding(10000, 32))\n",
        "model.add(SimpleRNN(32, return_sequences=True))\n",
        "model.summary()"
      ],
      "execution_count": 10,
      "outputs": [
        {
          "output_type": "stream",
          "text": [
            "Model: \"sequential_2\"\n",
            "_________________________________________________________________\n",
            "Layer (type)                 Output Shape              Param #   \n",
            "=================================================================\n",
            "embedding_2 (Embedding)      (None, None, 32)          320000    \n",
            "_________________________________________________________________\n",
            "simple_rnn_2 (SimpleRNN)     (None, None, 32)          2080      \n",
            "=================================================================\n",
            "Total params: 322,080\n",
            "Trainable params: 322,080\n",
            "Non-trainable params: 0\n",
            "_________________________________________________________________\n"
          ],
          "name": "stdout"
        }
      ]
    },
    {
      "cell_type": "code",
      "metadata": {
        "id": "Fhb85ur2yGsd",
        "colab_type": "code",
        "colab": {
          "base_uri": "https://localhost:8080/",
          "height": 336
        },
        "outputId": "3e4f03c6-05fa-4ff6-e2f7-8f3852782e5a"
      },
      "source": [
        "model = Sequential()\n",
        "model.add(Embedding(10000, 32))\n",
        "model.add(SimpleRNN(32, return_sequences=True))\n",
        "model.add(SimpleRNN(32, return_sequences=True))\n",
        "model.add(SimpleRNN(32, return_sequences=True))\n",
        "model.add(SimpleRNN(32)) #Last layer only returns the last output\n",
        "model.summary()"
      ],
      "execution_count": 11,
      "outputs": [
        {
          "output_type": "stream",
          "text": [
            "Model: \"sequential_3\"\n",
            "_________________________________________________________________\n",
            "Layer (type)                 Output Shape              Param #   \n",
            "=================================================================\n",
            "embedding_3 (Embedding)      (None, None, 32)          320000    \n",
            "_________________________________________________________________\n",
            "simple_rnn_3 (SimpleRNN)     (None, None, 32)          2080      \n",
            "_________________________________________________________________\n",
            "simple_rnn_4 (SimpleRNN)     (None, None, 32)          2080      \n",
            "_________________________________________________________________\n",
            "simple_rnn_5 (SimpleRNN)     (None, None, 32)          2080      \n",
            "_________________________________________________________________\n",
            "simple_rnn_6 (SimpleRNN)     (None, 32)                2080      \n",
            "=================================================================\n",
            "Total params: 328,320\n",
            "Trainable params: 328,320\n",
            "Non-trainable params: 0\n",
            "_________________________________________________________________\n"
          ],
          "name": "stdout"
        }
      ]
    },
    {
      "cell_type": "markdown",
      "metadata": {
        "id": "_yfIYAB1yGsi",
        "colab_type": "raw"
      },
      "source": [
        "Listing 6.22 Preparing the IMDB data"
      ]
    },
    {
      "cell_type": "code",
      "metadata": {
        "id": "eM490BMhyGsi",
        "colab_type": "code",
        "colab": {
          "base_uri": "https://localhost:8080/",
          "height": 158
        },
        "outputId": "8ee29ea7-458d-479e-cdb2-600506af89dd"
      },
      "source": [
        "from tensorflow.keras.datasets import imdb\n",
        "from tensorflow.keras.preprocessing import sequence\n",
        "max_features = 5000 #Number of words to consider as features\n",
        "maxlen = 300 #Cuts off texts after this many words (among the max_features most common words)\n",
        "batch_size = 32\n",
        "print('Loading data...')\n",
        "(input_train, y_train), (input_test, y_test) = imdb.load_data(num_words=max_features)\n",
        "print(len(input_train), 'train sequences')\n",
        "print(len(input_test), 'test sequences')\n",
        "print('Pad sequences (samples x time)')\n",
        "input_train = sequence.pad_sequences(input_train, maxlen=maxlen)\n",
        "input_test = sequence.pad_sequences(input_test, maxlen=maxlen)\n",
        "print('input_train shape:', input_train.shape)\n",
        "print('input_test shape:', input_test.shape)"
      ],
      "execution_count": 1,
      "outputs": [
        {
          "output_type": "stream",
          "text": [
            "Loading data...\n",
            "Downloading data from https://storage.googleapis.com/tensorflow/tf-keras-datasets/imdb.npz\n",
            "17465344/17464789 [==============================] - 0s 0us/step\n",
            "25000 train sequences\n",
            "25000 test sequences\n",
            "Pad sequences (samples x time)\n",
            "input_train shape: (25000, 300)\n",
            "input_test shape: (25000, 300)\n"
          ],
          "name": "stdout"
        }
      ]
    },
    {
      "cell_type": "markdown",
      "metadata": {
        "id": "4YVw267hyGso",
        "colab_type": "raw"
      },
      "source": [
        "Listing 6.23 Training the model with Embedding and SimpleRNN layers"
      ]
    },
    {
      "cell_type": "code",
      "metadata": {
        "id": "a2bFzda9yGsp",
        "colab_type": "code",
        "colab": {}
      },
      "source": [
        "from tensorflow.keras.layers import SimpleRNN\n",
        "from tensorflow.keras.models import Sequential\n",
        "from tensorflow.keras.layers import Embedding, SimpleRNN\n",
        "from tensorflow.keras.layers import Dense\n",
        "model = Sequential()\n",
        "model.add(Embedding(max_features, 32))\n",
        "model.add(SimpleRNN(32))\n",
        "model.add(Dense(1, activation='sigmoid'))"
      ],
      "execution_count": 2,
      "outputs": []
    },
    {
      "cell_type": "code",
      "metadata": {
        "id": "-6JYtynVyGst",
        "colab_type": "code",
        "colab": {}
      },
      "source": [
        "model.compile(optimizer='rmsprop', loss='binary_crossentropy', metrics=['acc'])"
      ],
      "execution_count": 6,
      "outputs": []
    },
    {
      "cell_type": "code",
      "metadata": {
        "id": "aA07mVhuyGs2",
        "colab_type": "code",
        "colab": {
          "base_uri": "https://localhost:8080/",
          "height": 372
        },
        "outputId": "3178e579-36aa-4e78-c4fb-3d4ce271f593"
      },
      "source": [
        "history = model.fit(input_train, y_train,epochs=10,batch_size=128,validation_split=0.2)"
      ],
      "execution_count": 7,
      "outputs": [
        {
          "output_type": "stream",
          "text": [
            "Epoch 1/10\n",
            "157/157 [==============================] - 47s 301ms/step - loss: 0.3722 - acc: 0.8439 - val_loss: 0.4221 - val_acc: 0.8128\n",
            "Epoch 2/10\n",
            "157/157 [==============================] - 47s 299ms/step - loss: 0.2950 - acc: 0.8816 - val_loss: 0.3874 - val_acc: 0.8362\n",
            "Epoch 3/10\n",
            "157/157 [==============================] - 47s 299ms/step - loss: 0.2269 - acc: 0.9110 - val_loss: 0.3756 - val_acc: 0.8518\n",
            "Epoch 4/10\n",
            "157/157 [==============================] - 47s 298ms/step - loss: 0.1715 - acc: 0.9365 - val_loss: 0.4102 - val_acc: 0.8502\n",
            "Epoch 5/10\n",
            "157/157 [==============================] - 46s 296ms/step - loss: 0.1168 - acc: 0.9610 - val_loss: 0.5341 - val_acc: 0.8030\n",
            "Epoch 6/10\n",
            "157/157 [==============================] - 46s 295ms/step - loss: 0.0748 - acc: 0.9762 - val_loss: 0.5868 - val_acc: 0.7964\n",
            "Epoch 7/10\n",
            "157/157 [==============================] - 46s 293ms/step - loss: 0.0554 - acc: 0.9828 - val_loss: 0.6642 - val_acc: 0.7816\n",
            "Epoch 8/10\n",
            "157/157 [==============================] - 46s 294ms/step - loss: 0.0334 - acc: 0.9910 - val_loss: 0.6261 - val_acc: 0.8350\n",
            "Epoch 9/10\n",
            "157/157 [==============================] - 47s 298ms/step - loss: 0.0246 - acc: 0.9928 - val_loss: 0.8335 - val_acc: 0.7760\n",
            "Epoch 10/10\n",
            "157/157 [==============================] - 46s 295ms/step - loss: 0.0154 - acc: 0.9957 - val_loss: 0.7346 - val_acc: 0.8094\n"
          ],
          "name": "stdout"
        }
      ]
    },
    {
      "cell_type": "markdown",
      "metadata": {
        "id": "wVQKrrCgyGs8",
        "colab_type": "raw"
      },
      "source": [
        "Listing 6.24 Plotting results"
      ]
    },
    {
      "cell_type": "code",
      "metadata": {
        "id": "x9CXKCToyGs9",
        "colab_type": "code",
        "colab": {
          "base_uri": "https://localhost:8080/",
          "height": 544
        },
        "outputId": "1140e3c3-5932-4339-a72b-5b194ba3c88d"
      },
      "source": [
        "import matplotlib.pyplot as plt\n",
        "acc = history.history['acc']\n",
        "val_acc = history.history['val_acc']\n",
        "loss = history.history['loss']\n",
        "val_loss = history.history['val_loss']\n",
        "epochs = range(1, len(acc) + 1)\n",
        "plt.plot(epochs, acc, 'bo', label='Training acc')\n",
        "plt.plot(epochs, val_acc, 'b', label='Validation acc')\n",
        "plt.title('Training and validation accuracy')\n",
        "plt.legend()\n",
        "plt.figure()\n",
        "plt.plot(epochs, loss, 'bo', label='Training loss')\n",
        "plt.plot(epochs, val_loss, 'b', label='Validation loss')\n",
        "plt.title('Training and validation loss')\n",
        "plt.legend()\n",
        "plt.show()"
      ],
      "execution_count": 8,
      "outputs": [
        {
          "output_type": "display_data",
          "data": {
            "image/png": "[encoded data removed]",
            "text/plain": [
              "<Figure size 432x288 with 1 Axes>"
            ]
          },
          "metadata": {
            "tags": [],
            "needs_background": "light"
          }
        },
        {
          "output_type": "display_data",
          "data": {
            "image/png": "[encoded data removed]",
            "text/plain": [
              "<Figure size 432x288 with 1 Axes>"
            ]
          },
          "metadata": {
            "tags": [],
            "needs_background": "light"
          }
        }
      ]
    }
  ]
}