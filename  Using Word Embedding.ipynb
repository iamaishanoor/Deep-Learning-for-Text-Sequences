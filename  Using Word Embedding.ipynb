{
 "cells": [
  {
   "cell_type": "markdown",
   "metadata": {},
   "source": [
    "# Using Word Embedding"
   ]
  },
  {
   "cell_type": "markdown",
   "metadata": {},
   "source": [
    "# LEARNING WORD EMBEDDINGS WITH THE EMBEDDING LAYER"
   ]
  },
  {
   "cell_type": "raw",
   "metadata": {},
   "source": [
    "Listing 6.5 Instantiating an Embedding layer"
   ]
  },
  {
   "cell_type": "code",
   "execution_count": 3,
   "metadata": {},
   "outputs": [],
   "source": [
    "from tensorflow.keras.layers import Embedding #Applying embedding layer\n",
    "embedding_layer = Embedding(1000, 64)\n",
    "#The Embedding layer takes at least two arguments: the number of possible tokens(here,1000:1+ maximum word index) & the dimensionality of the embeddings and the d"
   ]
  },
  {
   "cell_type": "raw",
   "metadata": {},
   "source": [
    "Listing 6.6 Loading the IMDB data for use with an Embedding layer"
   ]
  },
  {
   "cell_type": "code",
   "execution_count": 5,
   "metadata": {},
   "outputs": [
    {
     "name": "stdout",
     "output_type": "stream",
     "text": [
      "Downloading data from https://storage.googleapis.com/tensorflow/tf-keras-datasets/imdb.npz\n",
      "17465344/17464789 [==============================] - 25s 1us/step\n"
     ]
    }
   ],
   "source": [
    "from tensorflow.keras.datasets import imdb #downloading imdb dataset\n",
    "from tensorflow.keras import preprocessing\n",
    "max_features = 10000 #Number of words to consider as features\n",
    "maxlen = 20 #Cuts off the text after this number of words (among the max_features most common words)\n",
    "(x_train, y_train), (x_test, y_test) = imdb.load_data(num_words=max_features) #Loads the data as lists of integers\n",
    "x_train = preprocessing.sequence.pad_sequences(x_train, maxlen=maxlen) #Turns the lists of integers into a 2D integer tensor \n",
    "                                                                        #of shape (samples, maxlen)\n",
    "x_test = preprocessing.sequence.pad_sequences(x_test, maxlen=maxlen)"
   ]
  },
  {
   "cell_type": "raw",
   "metadata": {},
   "source": [
    "Listing 6.7 Using an Embedding layer and classifier on the IMDB data"
   ]
  },
  {
   "cell_type": "code",
   "execution_count": 8,
   "metadata": {},
   "outputs": [
    {
     "name": "stdout",
     "output_type": "stream",
     "text": [
      "Model: \"sequential\"\n",
      "_________________________________________________________________\n",
      "Layer (type)                 Output Shape              Param #   \n",
      "=================================================================\n",
      "embedding_1 (Embedding)      (None, 20, 8)             80000     \n",
      "_________________________________________________________________\n",
      "flatten (Flatten)            (None, 160)               0         \n",
      "_________________________________________________________________\n",
      "dense (Dense)                (None, 1)                 161       \n",
      "=================================================================\n",
      "Total params: 80,161\n",
      "Trainable params: 80,161\n",
      "Non-trainable params: 0\n",
      "_________________________________________________________________\n",
      "Train on 20000 samples, validate on 5000 samples\n",
      "Epoch 1/10\n",
      "20000/20000 [==============================] - 4s 220us/sample - loss: 0.6749 - acc: 0.6103 - val_loss: 0.6310 - val_acc: 0.6890\n",
      "Epoch 2/10\n",
      "20000/20000 [==============================] - 2s 89us/sample - loss: 0.5487 - acc: 0.7503 - val_loss: 0.5293 - val_acc: 0.7248\n",
      "Epoch 3/10\n",
      "20000/20000 [==============================] - 2s 87us/sample - loss: 0.4632 - acc: 0.7878 - val_loss: 0.5013 - val_acc: 0.7480\n",
      "Epoch 4/10\n",
      "20000/20000 [==============================] - 2s 98us/sample - loss: 0.4232 - acc: 0.8097 - val_loss: 0.4988 - val_acc: 0.7542\n",
      "Epoch 5/10\n",
      "20000/20000 [==============================] - 2s 87us/sample - loss: 0.3963 - acc: 0.8231 - val_loss: 0.4982 - val_acc: 0.7516\n",
      "Epoch 6/10\n",
      "20000/20000 [==============================] - 2s 88us/sample - loss: 0.3753 - acc: 0.8349 - val_loss: 0.5016 - val_acc: 0.7512\n",
      "Epoch 7/10\n",
      "20000/20000 [==============================] - 2s 87us/sample - loss: 0.3552 - acc: 0.8464 - val_loss: 0.5073 - val_acc: 0.7486\n",
      "Epoch 8/10\n",
      "20000/20000 [==============================] - 2s 86us/sample - loss: 0.3363 - acc: 0.8551 - val_loss: 0.5129 - val_acc: 0.7496\n",
      "Epoch 9/10\n",
      "20000/20000 [==============================] - 2s 86us/sample - loss: 0.3179 - acc: 0.8659 - val_loss: 0.5213 - val_acc: 0.7500\n",
      "Epoch 10/10\n",
      "20000/20000 [==============================] - 2s 86us/sample - loss: 0.3000 - acc: 0.8763 - val_loss: 0.5297 - val_acc: 0.7490\n"
     ]
    }
   ],
   "source": [
    "from tensorflow.keras.models import Sequential\n",
    "from tensorflow.keras.layers import Flatten, Dense\n",
    "\n",
    "model = Sequential()\n",
    "model.add(Embedding(10000, 8, input_length=maxlen)) #Specifies the maximum input length to the Embedding layer so you can later \n",
    "                                                    #flatten the embedded inputs. After the Embedding layer embedded inputs. \n",
    "                                                    #the activations have shape (samples, maxlen,8)\n",
    "model.add(Flatten()) #Flattens the 3D tensor of embeddings into a 2D tensor of shape (samples,maxlen * 8)\n",
    "model.add(Dense(1, activation='sigmoid')) #Adds the classifier on top\n",
    "model.compile(optimizer='rmsprop', loss='binary_crossentropy', metrics=['acc'])\n",
    "model.summary()\n",
    "history = model.fit(x_train, y_train,epochs=10,batch_size=32,validation_split=0.2)"
   ]
  },
  {
   "cell_type": "raw",
   "metadata": {},
   "source": [
    "Changing vector size/maxlen from 20 to 100"
   ]
  },
  {
   "cell_type": "code",
   "execution_count": 9,
   "metadata": {},
   "outputs": [],
   "source": [
    "from tensorflow.keras.layers import Embedding #Applying embedding layer"
   ]
  },
  {
   "cell_type": "code",
   "execution_count": 10,
   "metadata": {},
   "outputs": [],
   "source": [
    "from tensorflow.keras.datasets import imdb #downloading imdb dataset\n",
    "from tensorflow.keras import preprocessing\n",
    "max_features = 10000 #Number of words to consider as features\n",
    "maxlen = 100 #Cuts off the text after this number of words (among the max_features most common words)\n",
    "(x_train, y_train), (x_test, y_test) = imdb.load_data(num_words=max_features) #Loads the data as lists of integers\n",
    "x_train = preprocessing.sequence.pad_sequences(x_train, maxlen=maxlen) #Turns the lists of integers into a 2D integer tensor \n",
    "                                                                        #of shape (samples, maxlen)\n",
    "x_test = preprocessing.sequence.pad_sequences(x_test, maxlen=maxlen)"
   ]
  },
  {
   "cell_type": "code",
   "execution_count": 11,
   "metadata": {},
   "outputs": [
    {
     "name": "stdout",
     "output_type": "stream",
     "text": [
      "Model: \"sequential_1\"\n",
      "_________________________________________________________________\n",
      "Layer (type)                 Output Shape              Param #   \n",
      "=================================================================\n",
      "embedding_2 (Embedding)      (None, 100, 8)            80000     \n",
      "_________________________________________________________________\n",
      "flatten_1 (Flatten)          (None, 800)               0         \n",
      "_________________________________________________________________\n",
      "dense_1 (Dense)              (None, 1)                 801       \n",
      "=================================================================\n",
      "Total params: 80,801\n",
      "Trainable params: 80,801\n",
      "Non-trainable params: 0\n",
      "_________________________________________________________________\n",
      "Train on 20000 samples, validate on 5000 samples\n",
      "Epoch 1/10\n",
      "20000/20000 [==============================] - 3s 164us/sample - loss: 0.6016 - acc: 0.6970 - val_loss: 0.4438 - val_acc: 0.8168\n",
      "Epoch 2/10\n",
      "20000/20000 [==============================] - 2s 117us/sample - loss: 0.3557 - acc: 0.8550 - val_loss: 0.3531 - val_acc: 0.8438\n",
      "Epoch 3/10\n",
      "20000/20000 [==============================] - 3s 127us/sample - loss: 0.2854 - acc: 0.8827 - val_loss: 0.3279 - val_acc: 0.8556\n",
      "Epoch 4/10\n",
      "20000/20000 [==============================] - 2s 118us/sample - loss: 0.2521 - acc: 0.8974 - val_loss: 0.3236 - val_acc: 0.8620\n",
      "Epoch 5/10\n",
      "20000/20000 [==============================] - 2s 117us/sample - loss: 0.2299 - acc: 0.9084 - val_loss: 0.3274 - val_acc: 0.8608\n",
      "Epoch 6/10\n",
      "20000/20000 [==============================] - 2s 121us/sample - loss: 0.2123 - acc: 0.9165 - val_loss: 0.3325 - val_acc: 0.8592\n",
      "Epoch 7/10\n",
      "20000/20000 [==============================] - 2s 115us/sample - loss: 0.1970 - acc: 0.9230 - val_loss: 0.3387 - val_acc: 0.8606\n",
      "Epoch 8/10\n",
      "20000/20000 [==============================] - 2s 118us/sample - loss: 0.1816 - acc: 0.9301 - val_loss: 0.3460 - val_acc: 0.8580\n",
      "Epoch 9/10\n",
      "20000/20000 [==============================] - 2s 118us/sample - loss: 0.1665 - acc: 0.9359 - val_loss: 0.3540 - val_acc: 0.8576\n",
      "Epoch 10/10\n",
      "20000/20000 [==============================] - 2s 122us/sample - loss: 0.1511 - acc: 0.9439 - val_loss: 0.3648 - val_acc: 0.8556\n"
     ]
    }
   ],
   "source": [
    "from tensorflow.keras.models import Sequential\n",
    "from tensorflow.keras.layers import Flatten, Dense\n",
    "\n",
    "model = Sequential()\n",
    "model.add(Embedding(10000, 8, input_length=maxlen)) #Specifies the maximum input length to the Embedding layer so you can later \n",
    "                                                    #flatten the embedded inputs. After the Embedding layer embedded inputs. \n",
    "                                                    #the activations have shape (samples, maxlen,8)\n",
    "model.add(Flatten()) #Flattens the 3D tensor of embeddings into a 2D tensor of shape (samples,maxlen * 8)\n",
    "model.add(Dense(1, activation='sigmoid')) #Adds the classifier on top\n",
    "model.compile(optimizer='rmsprop', loss='binary_crossentropy', metrics=['acc'])\n",
    "model.summary()\n",
    "history = model.fit(x_train, y_train,epochs=10,batch_size=32,validation_split=0.2)"
   ]
  },
  {
   "cell_type": "code",
   "execution_count": null,
   "metadata": {},
   "outputs": [],
   "source": [
    "You can increase batch size, epochs, validation to improve more accuracy"
   ]
  },
  {
   "cell_type": "markdown",
   "metadata": {},
   "source": [
    "# USING PRETRAINED WORD EMBEDDINGS"
   ]
  },
  {
   "cell_type": "raw",
   "metadata": {},
   "source": [
    "DOWNLOADING THE IMDB DATA AS RAW TEXT\n",
    "http://mng.bz/0tIo"
   ]
  },
  {
   "cell_type": "raw",
   "metadata": {},
   "source": [
    "Listing 6.8 Processing the labels of the raw IMDB data"
   ]
  },
  {
   "cell_type": "code",
   "execution_count": 16,
   "metadata": {},
   "outputs": [],
   "source": [
    "import os\n",
    "imdb_dir = 'D:/RNN/aclImdb/aclImdb'\n",
    "train_dir = os.path.join(imdb_dir, 'train')\n",
    "labels = []\n",
    "texts = []\n",
    "for label_type in ['neg', 'pos']:\n",
    "    dir_name = os.path.join(train_dir, label_type)\n",
    "    for fname in os.listdir(dir_name):\n",
    "        if fname[-4:] == '.txt':\n",
    "            f = open(os.path.join(dir_name, fname),encoding=\"utf8\")\n",
    "            texts.append(f.read())\n",
    "            f.close()\n",
    "            if label_type == 'neg':\n",
    "                labels.append(0)\n",
    "            else:\n",
    "                labels.append(1)"
   ]
  },
  {
   "cell_type": "raw",
   "metadata": {},
   "source": [
    "Listing 6.9 Tokenizing the text of the raw IMDB data"
   ]
  },
  {
   "cell_type": "code",
   "execution_count": 18,
   "metadata": {},
   "outputs": [
    {
     "name": "stdout",
     "output_type": "stream",
     "text": [
      "Found 88582 unique tokens.\n",
      "Shape of data tensor: (25000, 100)\n",
      "Shape of label tensor: (25000,)\n"
     ]
    }
   ],
   "source": [
    "from tensorflow.keras.preprocessing.text import Tokenizer\n",
    "from tensorflow.keras.preprocessing.sequence import pad_sequences\n",
    "import numpy as np\n",
    "maxlen = 100 #Cuts off reviews after 100 words\n",
    "training_samples = 200 #Trains on 200 samples\n",
    "validation_samples = 10000 #Validates on 10,000 samples\n",
    "max_words = 10000 #Considers only the top 10,000 words in the dataset\n",
    "tokenizer = Tokenizer(num_words=max_words)\n",
    "tokenizer.fit_on_texts(texts)\n",
    "sequences = tokenizer.texts_to_sequences(texts)\n",
    "word_index = tokenizer.word_index\n",
    "print('Found %s unique tokens.' % len(word_index))\n",
    "data = pad_sequences(sequences, maxlen=maxlen)\n",
    "labels = np.asarray(labels)\n",
    "print('Shape of data tensor:', data.shape)\n",
    "print('Shape of label tensor:', labels.shape)\n",
    "indices = np.arange(data.shape[0]) #Splits the data into a training set and a validation set,but first shuffles the data,because\n",
    "                                #you’re starting with data in which samples are ordered (all negative first,then all positive)\n",
    "np.random.shuffle(indices)\n",
    "data = data[indices]\n",
    "labels = labels[indices]\n",
    "x_train = data[:training_samples]\n",
    "y_train = labels[:training_samples]\n",
    "x_val = data[training_samples: training_samples + validation_samples]\n",
    "y_val = labels[training_samples: training_samples + validation_samples]"
   ]
  },
  {
   "cell_type": "raw",
   "metadata": {},
   "source": [
    "There are three steps to use pretrained embedding layer\n",
    "Downloading pretrained embedding layer\n",
    "Parse embedding layer\n",
    "Converting it into matrix"
   ]
  },
  {
   "cell_type": "raw",
   "metadata": {},
   "source": [
    "DOWNLOADING THE GLOVE WORD EMBEDDINGS\n",
    "https://nlp.stanford.edu/projects/glove/"
   ]
  },
  {
   "cell_type": "raw",
   "metadata": {},
   "source": [
    "Listing 6.10 Parsing the GloVe word-embeddings file"
   ]
  },
  {
   "cell_type": "code",
   "execution_count": 22,
   "metadata": {},
   "outputs": [
    {
     "name": "stdout",
     "output_type": "stream",
     "text": [
      "Found 400000 word vectors.\n"
     ]
    }
   ],
   "source": [
    "glove_dir = 'D:/RNN/glove.6B'\n",
    "embeddings_index = {}\n",
    "f = open(os.path.join(glove_dir, 'glove.6B.100d.txt'),encoding=\"utf8\")\n",
    "for line in f:\n",
    "    values = line.split()\n",
    "    word = values[0]\n",
    "    coefs = np.asarray(values[1:], dtype='float32')\n",
    "    embeddings_index[word] = coefs\n",
    "f.close()\n",
    "print('Found %s word vectors.' % len(embeddings_index))"
   ]
  },
  {
   "cell_type": "raw",
   "metadata": {},
   "source": [
    "Listing 6.11 Preparing the GloVe word-embeddings matrix"
   ]
  },
  {
   "cell_type": "code",
   "execution_count": 24,
   "metadata": {},
   "outputs": [],
   "source": [
    "embedding_dim = 100\n",
    "embedding_matrix = np.zeros((max_words, embedding_dim))\n",
    "for word, i in word_index.items():\n",
    "    if i < max_words:\n",
    "        embedding_vector = embeddings_index.get(word)\n",
    "        if embedding_vector is not None:\n",
    "            embedding_matrix[i] = embedding_vector #Words not found in the embedding index will be all zeros."
   ]
  },
  {
   "cell_type": "raw",
   "metadata": {},
   "source": [
    "Listing 6.12 Model definition"
   ]
  },
  {
   "cell_type": "code",
   "execution_count": 26,
   "metadata": {},
   "outputs": [
    {
     "name": "stdout",
     "output_type": "stream",
     "text": [
      "Model: \"sequential_2\"\n",
      "_________________________________________________________________\n",
      "Layer (type)                 Output Shape              Param #   \n",
      "=================================================================\n",
      "embedding_3 (Embedding)      (None, 100, 100)          1000000   \n",
      "_________________________________________________________________\n",
      "flatten_2 (Flatten)          (None, 10000)             0         \n",
      "_________________________________________________________________\n",
      "dense_2 (Dense)              (None, 32)                320032    \n",
      "_________________________________________________________________\n",
      "dense_3 (Dense)              (None, 1)                 33        \n",
      "=================================================================\n",
      "Total params: 1,320,065\n",
      "Trainable params: 1,320,065\n",
      "Non-trainable params: 0\n",
      "_________________________________________________________________\n"
     ]
    }
   ],
   "source": [
    "from tensorflow.keras.models import Sequential\n",
    "from tensorflow.keras.layers import Embedding, Flatten, Dense\n",
    "model = Sequential()\n",
    "model.add(Embedding(max_words, embedding_dim, input_length=maxlen))\n",
    "model.add(Flatten())\n",
    "model.add(Dense(32, activation='relu'))\n",
    "model.add(Dense(1, activation='sigmoid'))\n",
    "model.summary()"
   ]
  },
  {
   "cell_type": "raw",
   "metadata": {},
   "source": [
    "Listing 6.13 Loading pretrained word embeddings into the Embedding layer"
   ]
  },
  {
   "cell_type": "code",
   "execution_count": 27,
   "metadata": {},
   "outputs": [],
   "source": [
    "model.layers[0].set_weights([embedding_matrix]) #Layer 0 pr embedding matrix dalna hai\n",
    "model.layers[0].trainable = False"
   ]
  },
  {
   "cell_type": "raw",
   "metadata": {},
   "source": [
    "Listing 6.14 Training and evaluation"
   ]
  },
  {
   "cell_type": "code",
   "execution_count": 28,
   "metadata": {},
   "outputs": [],
   "source": [
    "model.compile(optimizer='rmsprop',loss='binary_crossentropy',metrics=['acc'])"
   ]
  },
  {
   "cell_type": "code",
   "execution_count": 29,
   "metadata": {},
   "outputs": [
    {
     "name": "stdout",
     "output_type": "stream",
     "text": [
      "Train on 200 samples, validate on 10000 samples\n",
      "Epoch 1/10\n",
      "200/200 [==============================] - 16s 78ms/sample - loss: 2.4921 - acc: 0.5050 - val_loss: 0.8317 - val_acc: 0.4959\n",
      "Epoch 2/10\n",
      "200/200 [==============================] - 1s 7ms/sample - loss: 0.5640 - acc: 0.7550 - val_loss: 2.2565 - val_acc: 0.5046\n",
      "Epoch 3/10\n",
      "200/200 [==============================] - 1s 7ms/sample - loss: 0.6517 - acc: 0.7050 - val_loss: 1.3385 - val_acc: 0.4956\n",
      "Epoch 4/10\n",
      "200/200 [==============================] - 1s 7ms/sample - loss: 0.3372 - acc: 0.8750 - val_loss: 1.2553 - val_acc: 0.4963\n",
      "Epoch 5/10\n",
      "200/200 [==============================] - 1s 7ms/sample - loss: 0.3205 - acc: 0.7950 - val_loss: 0.9652 - val_acc: 0.5183\n",
      "Epoch 6/10\n",
      "200/200 [==============================] - 1s 7ms/sample - loss: 0.1213 - acc: 0.9800 - val_loss: 0.8084 - val_acc: 0.5413\n",
      "Epoch 7/10\n",
      "200/200 [==============================] - 1s 7ms/sample - loss: 0.1014 - acc: 0.9750 - val_loss: 2.2055 - val_acc: 0.4955\n",
      "Epoch 8/10\n",
      "200/200 [==============================] - 1s 6ms/sample - loss: 0.2455 - acc: 0.9050 - val_loss: 0.8607 - val_acc: 0.5316\n",
      "Epoch 9/10\n",
      "200/200 [==============================] - 1s 6ms/sample - loss: 0.0374 - acc: 1.0000 - val_loss: 0.7767 - val_acc: 0.5510\n",
      "Epoch 10/10\n",
      "200/200 [==============================] - 1s 6ms/sample - loss: 0.0261 - acc: 1.0000 - val_loss: 0.7809 - val_acc: 0.5562\n"
     ]
    }
   ],
   "source": [
    "history = model.fit(x_train, y_train,epochs=10,batch_size=32,validation_data=(x_val, y_val))"
   ]
  },
  {
   "cell_type": "code",
   "execution_count": 30,
   "metadata": {},
   "outputs": [],
   "source": [
    "model.save_weights('pre_trained_glove_model.h5')"
   ]
  },
  {
   "cell_type": "raw",
   "metadata": {},
   "source": [
    "Listing 6.15 Plotting the results"
   ]
  },
  {
   "cell_type": "code",
   "execution_count": 31,
   "metadata": {},
   "outputs": [
    {
     "data": {
      "image/png": "[encoded data removed]",
      "text/plain": [
       "<Figure size 432x288 with 1 Axes>"
      ]
     },
     "metadata": {
      "needs_background": "light"
     },
     "output_type": "display_data"
    },
    {
     "data": {
      "image/png": "[encoded data removed]",
      "text/plain": [
       "<Figure size 432x288 with 1 Axes>"
      ]
     },
     "metadata": {
      "needs_background": "light"
     },
     "output_type": "display_data"
    }
   ],
   "source": [
    "import matplotlib.pyplot as plt\n",
    "acc = history.history['acc']\n",
    "val_acc = history.history['val_acc']\n",
    "loss = history.history['loss']\n",
    "val_loss = history.history['val_loss']\n",
    "epochs = range(1, len(acc) + 1)\n",
    "plt.plot(epochs, acc, 'bo', label='Training acc')\n",
    "plt.plot(epochs, val_acc, 'b', label='Validation acc')\n",
    "plt.title('Training and validation accuracy')\n",
    "plt.legend()\n",
    "plt.figure()\n",
    "plt.plot(epochs, loss, 'bo', label='Training loss')\n",
    "plt.plot(epochs, val_loss, 'b', label='Validation loss')\n",
    "plt.title('Training and validation loss')\n",
    "plt.legend()\n",
    "plt.show()"
   ]
  },
  {
   "cell_type": "raw",
   "metadata": {},
   "source": [
    "here we take 200 samples.\n",
    "next we dont use pretrained word embedding"
   ]
  },
  {
   "cell_type": "raw",
   "metadata": {},
   "source": [
    "Listing 6.16 Training the same model without pretrained word embeddings"
   ]
  },
  {
   "cell_type": "code",
   "execution_count": 32,
   "metadata": {},
   "outputs": [
    {
     "name": "stdout",
     "output_type": "stream",
     "text": [
      "Model: \"sequential_3\"\n",
      "_________________________________________________________________\n",
      "Layer (type)                 Output Shape              Param #   \n",
      "=================================================================\n",
      "embedding_4 (Embedding)      (None, 100, 100)          1000000   \n",
      "_________________________________________________________________\n",
      "flatten_3 (Flatten)          (None, 10000)             0         \n",
      "_________________________________________________________________\n",
      "dense_4 (Dense)              (None, 32)                320032    \n",
      "_________________________________________________________________\n",
      "dense_5 (Dense)              (None, 1)                 33        \n",
      "=================================================================\n",
      "Total params: 1,320,065\n",
      "Trainable params: 1,320,065\n",
      "Non-trainable params: 0\n",
      "_________________________________________________________________\n"
     ]
    }
   ],
   "source": [
    "from tensorflow.keras.models import Sequential\n",
    "from tensorflow.keras.layers import Embedding, Flatten, Dense\n",
    "model = Sequential()\n",
    "model.add(Embedding(max_words, embedding_dim, input_length=maxlen))\n",
    "model.add(Flatten())\n",
    "model.add(Dense(32, activation='relu'))\n",
    "model.add(Dense(1, activation='sigmoid'))\n",
    "model.summary()"
   ]
  },
  {
   "cell_type": "code",
   "execution_count": 33,
   "metadata": {},
   "outputs": [],
   "source": [
    "model.compile(optimizer='rmsprop',loss='binary_crossentropy',metrics=['acc'])"
   ]
  },
  {
   "cell_type": "code",
   "execution_count": 34,
   "metadata": {},
   "outputs": [
    {
     "name": "stdout",
     "output_type": "stream",
     "text": [
      "Train on 200 samples, validate on 10000 samples\n",
      "Epoch 1/10\n",
      "200/200 [==============================] - 2s 12ms/sample - loss: 0.6966 - acc: 0.5050 - val_loss: 0.6922 - val_acc: 0.5168\n",
      "Epoch 2/10\n",
      "200/200 [==============================] - 1s 7ms/sample - loss: 0.5101 - acc: 0.9500 - val_loss: 0.6948 - val_acc: 0.5118\n",
      "Epoch 3/10\n",
      "200/200 [==============================] - 2s 8ms/sample - loss: 0.2975 - acc: 0.9700 - val_loss: 0.7010 - val_acc: 0.5107\n",
      "Epoch 4/10\n",
      "200/200 [==============================] - 2s 8ms/sample - loss: 0.1402 - acc: 1.0000 - val_loss: 0.7122 - val_acc: 0.5178\n",
      "Epoch 5/10\n",
      "200/200 [==============================] - 1s 7ms/sample - loss: 0.0665 - acc: 1.0000 - val_loss: 0.7057 - val_acc: 0.5208\n",
      "Epoch 6/10\n",
      "200/200 [==============================] - 1s 7ms/sample - loss: 0.0351 - acc: 1.0000 - val_loss: 0.7164 - val_acc: 0.5162\n",
      "Epoch 7/10\n",
      "200/200 [==============================] - 1s 7ms/sample - loss: 0.0200 - acc: 1.0000 - val_loss: 0.7198 - val_acc: 0.5197\n",
      "Epoch 8/10\n",
      "200/200 [==============================] - 2s 8ms/sample - loss: 0.0116 - acc: 1.0000 - val_loss: 0.7280 - val_acc: 0.5194\n",
      "Epoch 9/10\n",
      "200/200 [==============================] - 2s 8ms/sample - loss: 0.0068 - acc: 1.0000 - val_loss: 0.7282 - val_acc: 0.5248\n",
      "Epoch 10/10\n",
      "200/200 [==============================] - 1s 7ms/sample - loss: 0.0041 - acc: 1.0000 - val_loss: 0.7364 - val_acc: 0.5217\n"
     ]
    }
   ],
   "source": [
    "history = model.fit(x_train, y_train,epochs=10,batch_size=32,validation_data=(x_val, y_val))"
   ]
  },
  {
   "cell_type": "code",
   "execution_count": 36,
   "metadata": {},
   "outputs": [
    {
     "data": {
      "image/png": "[encoded data removed]",
      "text/plain": [
       "<Figure size 432x288 with 1 Axes>"
      ]
     },
     "metadata": {
      "needs_background": "light"
     },
     "output_type": "display_data"
    },
    {
     "data": {
      "image/png": "[encoded data removed]",
      "text/plain": [
       "<Figure size 432x288 with 1 Axes>"
      ]
     },
     "metadata": {
      "needs_background": "light"
     },
     "output_type": "display_data"
    }
   ],
   "source": [
    "import matplotlib.pyplot as plt\n",
    "acc = history.history['acc']\n",
    "val_acc = history.history['val_acc']\n",
    "loss = history.history['loss']\n",
    "val_loss = history.history['val_loss']\n",
    "epochs = range(1, len(acc) + 1)\n",
    "plt.plot(epochs, acc, 'bo', label='Training acc')\n",
    "plt.plot(epochs, val_acc, 'b', label='Validation acc')\n",
    "plt.title('Training and validation accuracy')\n",
    "plt.legend()\n",
    "plt.figure()\n",
    "plt.plot(epochs, loss, 'bo', label='Training loss')\n",
    "plt.plot(epochs, val_loss, 'b', label='Validation loss')\n",
    "plt.title('Training and validation loss')\n",
    "plt.legend()\n",
    "plt.show()"
   ]
  },
  {
   "cell_type": "raw",
   "metadata": {},
   "source": [
    "Listing 6.17 Tokenizing the data of the test set"
   ]
  },
  {
   "cell_type": "code",
   "execution_count": 41,
   "metadata": {},
   "outputs": [],
   "source": [
    "test_dir = os.path.join(imdb_dir, 'test')\n",
    "labels = []\n",
    "texts = []\n",
    "for label_type in ['neg', 'pos']:\n",
    "    dir_name = os.path.join(test_dir, label_type)\n",
    "    for fname in sorted(os.listdir(dir_name)):\n",
    "        if fname[-4:] == '.txt':\n",
    "            f = open(os.path.join(dir_name, fname),encoding=\"utf8\")\n",
    "            texts.append(f.read())\n",
    "            f.close()\n",
    "            if label_type == 'neg':\n",
    "                labels.append(0)\n",
    "            else:\n",
    "                labels.append(1)\n",
    "sequences = tokenizer.texts_to_sequences(texts)\n",
    "x_test = pad_sequences(sequences, maxlen=maxlen)\n",
    "y_test = np.asarray(labels)"
   ]
  },
  {
   "cell_type": "raw",
   "metadata": {},
   "source": [
    "Listing 6.18 Evaluating the model on the test set"
   ]
  },
  {
   "cell_type": "code",
   "execution_count": 42,
   "metadata": {},
   "outputs": [
    {
     "name": "stdout",
     "output_type": "stream",
     "text": [
      "25000/25000 [==============================] - 3s 103us/sample - loss: 0.7801 - acc: 0.5488\n"
     ]
    },
    {
     "data": {
      "text/plain": [
       "[0.7800973596000671, 0.54884]"
      ]
     },
     "execution_count": 42,
     "metadata": {},
     "output_type": "execute_result"
    }
   ],
   "source": [
    "model.load_weights('pre_trained_glove_model.h5')\n",
    "model.evaluate(x_test, y_test)"
   ]
  },
  {
   "cell_type": "raw",
   "metadata": {},
   "source": [
    "if the max length is less than the training accuracy is low, but if you increase the max length than your accuracy will more improve.\n",
    "our system can handle large max length, you can increase you max length in colab.\n",
    "if the max length is less, and the sequence conduct any important infomration than it will miss the important info\n",
    "Or agar zyada length dedi to usko har epoch pr padding krni parheygi so check the highest sequence before selecting max length"
   ]
  },
  {
   "cell_type": "raw",
   "metadata": {},
   "source": [
    "Further next you can made changes in max_length, training_samples, Validation to improve your accuracy"
   ]
  }
 ],
 "metadata": {
  "kernelspec": {
   "display_name": "myenv",
   "language": "python",
   "name": "myenv"
  },
  "language_info": {
   "codemirror_mode": {
    "name": "ipython",
    "version": 3
   },
   "file_extension": ".py",
   "mimetype": "text/x-python",
   "name": "python",
   "nbconvert_exporter": "python",
   "pygments_lexer": "ipython3",
   "version": "3.7.7"
  }
 },
 "nbformat": 4,
 "nbformat_minor": 4
}
